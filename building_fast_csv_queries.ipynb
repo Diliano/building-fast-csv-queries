{
 "cells": [
  {
   "cell_type": "markdown",
   "id": "d0582d31-dd59-4afb-a87e-658505a35f96",
   "metadata": {},
   "source": [
    "# Building Fast Queries on a CSV\n",
    "\n",
    "We run an online laptop store and would like to build a way to answer a few different business questions about our inventory.\n",
    "\n",
    "We will use the `laptops.csv` file as our inventory, which has been adapted from the original [dataset](https://www.kaggle.com/datasets/muhammetvarl/laptop-price).\n",
    "\n",
    "Our dataset contains the following column titles:\n",
    "\n",
    "- `ID`: A unique identifier for the laptop\n",
    "- `Company`: The name of the company that produces the laptop\n",
    "- `Product`: The name of the laptop\n",
    "- `TypeName`: The type of laptop\n",
    "- `Inches`: The size of the screen in inches\n",
    "- `ScreenResolution`: The resolution of the screen\n",
    "- `CPU`: The laptop CPU\n",
    "- `RAM`: The amount of RAM in the laptop\n",
    "- `Memory`: The size of the hard drive\n",
    "- `GPU`: The graphics card name\n",
    "- `OpSys`: The name of the operating system\n",
    "- `Weight`: The laptop weight\n",
    "- `Price`: The price of the laptop"
   ]
  }
 ],
 "metadata": {
  "kernelspec": {
   "display_name": "Python 3 (ipykernel)",
   "language": "python",
   "name": "python3"
  },
  "language_info": {
   "codemirror_mode": {
    "name": "ipython",
    "version": 3
   },
   "file_extension": ".py",
   "mimetype": "text/x-python",
   "name": "python",
   "nbconvert_exporter": "python",
   "pygments_lexer": "ipython3",
   "version": "3.11.1"
  }
 },
 "nbformat": 4,
 "nbformat_minor": 5
}
