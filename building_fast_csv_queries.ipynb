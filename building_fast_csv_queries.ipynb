{
 "cells": [
  {
   "cell_type": "markdown",
   "id": "d0582d31-dd59-4afb-a87e-658505a35f96",
   "metadata": {},
   "source": [
    "# Building Fast Queries on a CSV\n",
    "\n",
    "## Introduction\n",
    "\n",
    "We run an online laptop store and would like to build a way to answer a few different business questions about our inventory.\n",
    "\n",
    "We will use the `laptops.csv` file as our inventory, which has been adapted from the original [dataset](https://www.kaggle.com/datasets/muhammetvarl/laptop-price).\n",
    "\n",
    "Our dataset contains the following column titles:\n",
    "\n",
    "- `Id`: A unique identifier for the laptop\n",
    "- `Company`: The name of the company that produces the laptop\n",
    "- `Product`: The name of the laptop\n",
    "- `TypeName`: The type of laptop\n",
    "- `Inches`: The size of the screen in inches\n",
    "- `ScreenResolution`: The resolution of the screen\n",
    "- `Cpu`: The laptop CPU\n",
    "- `Ram`: The amount of RAM in the laptop\n",
    "- `Memory`: The size of the hard drive\n",
    "- `Gpu`: The graphics card name\n",
    "- `OpSys`: The name of the operating system\n",
    "- `Weight`: The laptop weight\n",
    "- `Price`: The price of the laptop"
   ]
  },
  {
   "cell_type": "markdown",
   "id": "d85fff17-dfee-4280-9290-4385f1131eab",
   "metadata": {},
   "source": [
    "## Reading the inventory\n",
    "\n",
    "First, we'll read in our file and separate the header from the remaining rows.\n",
    "\n",
    "We'll then display the header and the first few rows."
   ]
  },
  {
   "cell_type": "code",
   "execution_count": 100,
   "id": "515a6b18-5df3-4b99-8c86-a031e0247280",
   "metadata": {},
   "outputs": [
    {
     "name": "stdout",
     "output_type": "stream",
     "text": [
      "['Id', 'Company', 'Product', 'TypeName', 'Inches', 'ScreenResolution', 'Cpu', 'Ram', 'Memory', 'Gpu', 'OpSys', 'Weight', 'Price'] \n",
      "\n",
      "['6571244', 'Apple', 'MacBook Pro', 'Ultrabook', '13.3', 'IPS Panel Retina Display 2560x1600', 'Intel Core i5 2.3GHz', '8GB', '128GB SSD', 'Intel Iris Plus Graphics 640', 'macOS', '1.37kg', '1339'] \n",
      "\n",
      "['7287764', 'Apple', 'Macbook Air', 'Ultrabook', '13.3', '1440x900', 'Intel Core i5 1.8GHz', '8GB', '128GB Flash Storage', 'Intel HD Graphics 6000', 'macOS', '1.34kg', '898'] \n",
      "\n",
      "['3362737', 'HP', '250 G6', 'Notebook', '15.6', 'Full HD 1920x1080', 'Intel Core i5 7200U 2.5GHz', '8GB', '256GB SSD', 'Intel HD Graphics 620', 'No OS', '1.86kg', '575'] \n",
      "\n",
      "['9722156', 'Apple', 'MacBook Pro', 'Ultrabook', '15.4', 'IPS Panel Retina Display 2880x1800', 'Intel Core i7 2.7GHz', '16GB', '512GB SSD', 'AMD Radeon Pro 455', 'macOS', '1.83kg', '2537'] \n",
      "\n",
      "['8550527', 'Apple', 'MacBook Pro', 'Ultrabook', '13.3', 'IPS Panel Retina Display 2560x1600', 'Intel Core i5 3.1GHz', '8GB', '256GB SSD', 'Intel Iris Plus Graphics 650', 'macOS', '1.37kg', '1803'] \n",
      "\n"
     ]
    }
   ],
   "source": [
    "import csv\n",
    "\n",
    "with open(\"laptops.csv\") as file:\n",
    "    reader = csv.reader(file)\n",
    "    data = list(reader)\n",
    "\n",
    "header = data[0]\n",
    "rows = data[1:]\n",
    "\n",
    "print(header, \"\\n\")\n",
    "\n",
    "for row in rows[:5]:\n",
    "    print(row, \"\\n\")"
   ]
  },
  {
   "cell_type": "markdown",
   "id": "0ac3717e-72ae-4670-bd03-ac68c29d4992",
   "metadata": {},
   "source": [
    "## Inventory class\n",
    "\n",
    "We are going to create a class that represents our inventory, with its class methods implementing the queries that we want to answer about our inventory.\n",
    "\n",
    "We'll start by implementing the constructor, which will take the name of the CSV file as an argument and then read the rows contained in it. The header and rows will be read into `self.header` and `self.rows`, followed by converting the `price` of each row *(the last column)* to an integer. \n",
    "\n",
    "The class will be tested by creating an instance of it, using `laptops.csv` as the argument."
   ]
  },
  {
   "cell_type": "code",
   "execution_count": 101,
   "id": "7736bf5c-518b-4f98-9307-b703c2e54f91",
   "metadata": {},
   "outputs": [
    {
     "name": "stdout",
     "output_type": "stream",
     "text": [
      "['Id', 'Company', 'Product', 'TypeName', 'Inches', 'ScreenResolution', 'Cpu', 'Ram', 'Memory', 'Gpu', 'OpSys', 'Weight', 'Price'] \n",
      "\n",
      "1303\n"
     ]
    }
   ],
   "source": [
    "class Inventory():\n",
    "    def __init__(self, csv_filename):\n",
    "        with open(csv_filename) as file:\n",
    "            reader = csv.reader(file)\n",
    "            data = list(reader)\n",
    "        self.header = data[0]\n",
    "        self.rows = data[1:]\n",
    "        for row in self.rows:\n",
    "            row[-1] = int(row[-1])\n",
    "\n",
    "inventory = Inventory(\"laptops.csv\")\n",
    "print(inventory.header, \"\\n\")\n",
    "print(len(inventory.rows))"
   ]
  },
  {
   "cell_type": "markdown",
   "id": "ebf2f52a-0780-458a-a405-b4c31cf2ee2a",
   "metadata": {},
   "source": [
    "## Finding a laptop from the Id\n",
    "\n",
    "To implement a way to look up a laptop from a given identifier, we'll create a `get_laptop_from_id` method. \n",
    "\n",
    "We'll then test this method with a few example identifiers. "
   ]
  },
  {
   "cell_type": "code",
   "execution_count": 102,
   "id": "946628d5-81eb-40d6-9d0f-4ffbe4ce227b",
   "metadata": {},
   "outputs": [
    {
     "name": "stdout",
     "output_type": "stream",
     "text": [
      "['3362737', 'HP', '250 G6', 'Notebook', '15.6', 'Full HD 1920x1080', 'Intel Core i5 7200U 2.5GHz', '8GB', '256GB SSD', 'Intel HD Graphics 620', 'No OS', '1.86kg', 575] \n",
      "\n",
      "None\n"
     ]
    }
   ],
   "source": [
    "class Inventory():\n",
    "    def __init__(self, csv_filename):\n",
    "        with open(csv_filename) as file:\n",
    "            reader = csv.reader(file)\n",
    "            data = list(reader)\n",
    "        self.header = data[0]\n",
    "        self.rows = data[1:]\n",
    "        for row in self.rows:\n",
    "            row[-1] = int(row[-1])\n",
    "\n",
    "    def get_laptop_from_id(self, laptop_id):\n",
    "        for row in self.rows:\n",
    "            if row[0] == laptop_id:\n",
    "                return row\n",
    "        return None\n",
    "\n",
    "inventory = Inventory(\"laptops.csv\")\n",
    "print(inventory.get_laptop_from_id(\"3362737\"), \"\\n\")\n",
    "print(inventory.get_laptop_from_id(\"3362736\"))"
   ]
  },
  {
   "cell_type": "markdown",
   "id": "f26c30a7-b947-449d-8d9e-b428ba5c1114",
   "metadata": {},
   "source": [
    "## Improving Id lookups\n",
    "\n",
    "In the worst cases, the `get_laptop_from_id` method requires us to look at every single row to find the identifier we are looking for, or to conclude that there is no match. \n",
    "\n",
    "To improve the process of looking up a given identifier, we'll preprocess the data into a dictionary, where the keys are the Id's and the values are the rows. \n",
    "\n",
    "We'll use the dictionary in an alternative method, `get_laptop_from_id_fast`, and then test it with a few example identifiers."
   ]
  },
  {
   "cell_type": "code",
   "execution_count": 103,
   "id": "af839148-8bc6-4dcf-8308-413518023dde",
   "metadata": {},
   "outputs": [
    {
     "name": "stdout",
     "output_type": "stream",
     "text": [
      "['3362737', 'HP', '250 G6', 'Notebook', '15.6', 'Full HD 1920x1080', 'Intel Core i5 7200U 2.5GHz', '8GB', '256GB SSD', 'Intel HD Graphics 620', 'No OS', '1.86kg', 575] \n",
      "\n",
      "None\n"
     ]
    }
   ],
   "source": [
    "class Inventory():\n",
    "    def __init__(self, csv_filename):\n",
    "        with open(csv_filename) as file:\n",
    "            reader = csv.reader(file)\n",
    "            data = list(reader)\n",
    "        self.header = data[0]\n",
    "        self.rows = data[1:]\n",
    "        for row in self.rows:\n",
    "            row[-1] = int(row[-1])\n",
    "        self.id_to_row = {}\n",
    "        for row in self.rows:\n",
    "            self.id_to_row[row[0]] = row\n",
    "\n",
    "    def get_laptop_from_id(self, laptop_id):\n",
    "        for row in self.rows:\n",
    "            if row[0] == laptop_id:\n",
    "                return row\n",
    "        return None\n",
    "\n",
    "    def get_laptop_from_id_fast(self, laptop_id):\n",
    "        if laptop_id in self.id_to_row:\n",
    "            return self.id_to_row[laptop_id]\n",
    "        return None\n",
    "\n",
    "inventory = Inventory(\"laptops.csv\")\n",
    "print(inventory.get_laptop_from_id_fast(\"3362737\"), \"\\n\")\n",
    "print(inventory.get_laptop_from_id_fast(\"3362736\"))"
   ]
  },
  {
   "cell_type": "markdown",
   "id": "18761095-cfd6-4faa-ba3b-0d170c30cf1b",
   "metadata": {},
   "source": [
    "## Comparing the performance\n",
    "\n",
    "Next, we'll experiment to compare the performance of the two methods. \n",
    "\n",
    "We'll start by generating random Id's and then use both methods to lookup these same Id's. We'll measure the execution time of each lookup and for each method, add all of the times together."
   ]
  },
  {
   "cell_type": "code",
   "execution_count": 104,
   "id": "45317f25-6a91-41be-aef8-da4f59d1fd82",
   "metadata": {},
   "outputs": [
    {
     "name": "stdout",
     "output_type": "stream",
     "text": [
      "0.20449590682983398\n",
      "0.0013420581817626953\n"
     ]
    }
   ],
   "source": [
    "import time\n",
    "import random\n",
    "\n",
    "ids = [str(random.randint(1000000, 9999999)) for num in range(10000)]\n",
    "inventory = Inventory(\"laptops.csv\")\n",
    "\n",
    "total_time_no_dict = 0\n",
    "for identifier in ids:\n",
    "    start = time.time()\n",
    "    inventory.get_laptop_from_id(identifier)\n",
    "    end = time.time()\n",
    "    total_time_no_dict += (end - start)\n",
    "\n",
    "total_time_dict = 0\n",
    "for identifier in ids:\n",
    "    start = time.time()\n",
    "    inventory.get_laptop_from_id_fast(identifier)\n",
    "    end = time.time()\n",
    "    total_time_dict += (end - start)\n",
    "\n",
    "print(total_time_no_dict)\n",
    "print(total_time_dict)"
   ]
  }
 ],
 "metadata": {
  "kernelspec": {
   "display_name": "Python 3 (ipykernel)",
   "language": "python",
   "name": "python3"
  },
  "language_info": {
   "codemirror_mode": {
    "name": "ipython",
    "version": 3
   },
   "file_extension": ".py",
   "mimetype": "text/x-python",
   "name": "python",
   "nbconvert_exporter": "python",
   "pygments_lexer": "ipython3",
   "version": "3.11.1"
  }
 },
 "nbformat": 4,
 "nbformat_minor": 5
}
