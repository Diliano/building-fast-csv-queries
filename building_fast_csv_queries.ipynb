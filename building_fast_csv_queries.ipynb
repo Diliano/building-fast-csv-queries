{
 "cells": [
  {
   "cell_type": "code",
   "execution_count": null,
   "id": "28b1a644-542a-43a4-b4b4-23209f3bf7c7",
   "metadata": {},
   "outputs": [],
   "source": []
  }
 ],
 "metadata": {
  "kernelspec": {
   "display_name": "",
   "name": ""
  },
  "language_info": {
   "name": ""
  }
 },
 "nbformat": 4,
 "nbformat_minor": 5
}
